{
 "cells": [
  {
   "cell_type": "code",
   "execution_count": 1,
   "id": "723682d0",
   "metadata": {},
   "outputs": [],
   "source": [
    "import pandas as pd\n",
    "import numpy as np\n",
    "import seaborn as sns\n",
    "import matplotlib.pyplot as plt\n",
    "%matplotlib inline\n",
    "import warnings\n",
    "warnings.filterwarnings(\"ignore\")"
   ]
  },
  {
   "cell_type": "code",
   "execution_count": 2,
   "id": "14b3ac7c",
   "metadata": {},
   "outputs": [],
   "source": [
    "df = pd.read_csv(\"C:\\\\Users\\\\andre\\\\OneDrive\\\\Desktop\\\\cognify_internship\\\\cognify.csv\")"
   ]
  },
  {
   "cell_type": "markdown",
   "id": "af86e504",
   "metadata": {},
   "source": [
    "# LEVEL 3 -  Restaurant Reviews"
   ]
  },
  {
   "cell_type": "markdown",
   "id": "c5f29cd3",
   "metadata": {},
   "source": [
    "## TASK 1 "
   ]
  },
  {
   "cell_type": "markdown",
   "id": "514ceb9c",
   "metadata": {},
   "source": [
    "# a - Analyze the text reviews to identify the most common positive and negative keywords."
   ]
  },
  {
   "cell_type": "code",
   "execution_count": 3,
   "id": "6b60510a",
   "metadata": {},
   "outputs": [
    {
     "data": {
      "image/png": "[encoded data removed]",
      "text/plain": [
       "<Figure size 640x480 with 1 Axes>"
      ]
     },
     "metadata": {},
     "output_type": "display_data"
    }
   ],
   "source": [
    "review_data = df[\"Rating text\"].value_counts()\n",
    "plt.pie(review_data.values,labels =review_data.index,autopct =\"%1.1f%%\" )\n",
    "plt.show()"
   ]
  },
  {
   "cell_type": "code",
   "execution_count": 5,
   "id": "a7017422",
   "metadata": {},
   "outputs": [
    {
     "data": {
      "text/plain": [
       "Average      3737\n",
       "Not rated    2148\n",
       "Good         2100\n",
       "Very Good    1079\n",
       "Excellent     301\n",
       "Poor          186\n",
       "Name: Rating text, dtype: int64"
      ]
     },
     "execution_count": 5,
     "metadata": {},
     "output_type": "execute_result"
    }
   ],
   "source": [
    "review_data"
   ]
  },
  {
   "cell_type": "markdown",
   "id": "8aad8dc2",
   "metadata": {},
   "source": [
    "###### - the most common positive review EXCELLENT  - 301 COUNT\n",
    "###### - the most common negative review POOR - 186 COUNT"
   ]
  },
  {
   "cell_type": "markdown",
   "id": "f5c62cac",
   "metadata": {},
   "source": [
    "# "
   ]
  },
  {
   "cell_type": "markdown",
   "id": "82590cfc",
   "metadata": {},
   "source": [
    "#  b - Calculate the average length of reviews and explore if there is a relationship between review length and rating."
   ]
  },
  {
   "cell_type": "code",
   "execution_count": 6,
   "id": "8fbc87bf",
   "metadata": {},
   "outputs": [],
   "source": [
    "reviews = df[\"Rating text\"]\n",
    "total_reviews = len(reviews)\n",
    "total_reviews_length = 0"
   ]
  },
  {
   "cell_type": "code",
   "execution_count": 7,
   "id": "a3bfbf43",
   "metadata": {},
   "outputs": [
    {
     "name": "stdout",
     "output_type": "stream",
     "text": [
      "average length of rating: 1.34\n"
     ]
    }
   ],
   "source": [
    "for review in reviews:\n",
    "    total_reviews_length += len(review.split())\n",
    "    \n",
    "avg_review_length = total_reviews_length / total_reviews\n",
    "print(\"average length of rating:\",round(avg_review_length,2))"
   ]
  },
  {
   "cell_type": "code",
   "execution_count": 8,
   "id": "0faa344b",
   "metadata": {},
   "outputs": [
    {
     "name": "stdout",
     "output_type": "stream",
     "text": [
      "review_len_vs_rating\n",
      "{4.8: 1.0, 4.5: 1.0, 4.4: 2.0, 4.9: 1.0, 4.0: 2.0, 4.2: 2.0, 4.3: 2.0, 3.6: 1.0, 4.7: 1.0, 3.0: 1.0, 3.8: 1.0, 3.7: 1.0, 3.2: 1.0, 3.1: 1.0, 0.0: 2.0, 4.1: 2.0, 3.3: 1.0, 4.6: 1.0, 3.9: 1.0, 3.4: 1.0, 3.5: 1.0, 2.2: 1.0, 2.9: 1.0, 2.4: 1.0, 2.6: 1.0, 2.8: 1.0, 2.1: 1.0, 2.7: 1.0, 2.5: 1.0, 1.8: 1.0, 2.0: 1.0, 2.3: 1.0, 1.9: 1.0}\n"
     ]
    }
   ],
   "source": [
    "review_len_vs_rating ={}\n",
    "\n",
    "for rating in df[\"Aggregate rating\"].unique():\n",
    "    filttered_reviews = df.loc[df[\"Aggregate rating\"] == rating][\"Rating text\"]\n",
    "    total_length = 0\n",
    "    total_reviews = len(filttered_reviews)\n",
    "    \n",
    "    for review in filttered_reviews:\n",
    "        total_length += len(review.split())\n",
    "        \n",
    "        \n",
    "    average_length = total_length / total_reviews\n",
    "    review_len_vs_rating[rating] = average_length\n",
    "        \n",
    "print(\"review_len_vs_rating\")\n",
    "print(review_len_vs_rating)"
   ]
  },
  {
   "cell_type": "code",
   "execution_count": 9,
   "id": "8f6a51fd",
   "metadata": {},
   "outputs": [],
   "source": [
    "review_len_vs_rating = pd.DataFrame({\n",
    "    \"ratings\": list(review_len_vs_rating.keys()),\n",
    "    \"avg_review_len\": list(review_len_vs_rating.values())\n",
    "})"
   ]
  },
  {
   "cell_type": "code",
   "execution_count": 10,
   "id": "9a7b46e3",
   "metadata": {},
   "outputs": [
    {
     "data": {
      "text/html": [
       "<div>\n",
       "<style scoped>\n",
       "    .dataframe tbody tr th:only-of-type {\n",
       "        vertical-align: middle;\n",
       "    }\n",
       "\n",
       "    .dataframe tbody tr th {\n",
       "        vertical-align: top;\n",
       "    }\n",
       "\n",
       "    .dataframe thead th {\n",
       "        text-align: right;\n",
       "    }\n",
       "</style>\n",
       "<table border=\"1\" class=\"dataframe\">\n",
       "  <thead>\n",
       "    <tr style=\"text-align: right;\">\n",
       "      <th></th>\n",
       "      <th>ratings</th>\n",
       "      <th>avg_review_len</th>\n",
       "    </tr>\n",
       "  </thead>\n",
       "  <tbody>\n",
       "    <tr>\n",
       "      <th>0</th>\n",
       "      <td>4.8</td>\n",
       "      <td>1.0</td>\n",
       "    </tr>\n",
       "    <tr>\n",
       "      <th>1</th>\n",
       "      <td>4.5</td>\n",
       "      <td>1.0</td>\n",
       "    </tr>\n",
       "    <tr>\n",
       "      <th>2</th>\n",
       "      <td>4.4</td>\n",
       "      <td>2.0</td>\n",
       "    </tr>\n",
       "    <tr>\n",
       "      <th>3</th>\n",
       "      <td>4.9</td>\n",
       "      <td>1.0</td>\n",
       "    </tr>\n",
       "    <tr>\n",
       "      <th>4</th>\n",
       "      <td>4.0</td>\n",
       "      <td>2.0</td>\n",
       "    </tr>\n",
       "    <tr>\n",
       "      <th>5</th>\n",
       "      <td>4.2</td>\n",
       "      <td>2.0</td>\n",
       "    </tr>\n",
       "    <tr>\n",
       "      <th>6</th>\n",
       "      <td>4.3</td>\n",
       "      <td>2.0</td>\n",
       "    </tr>\n",
       "    <tr>\n",
       "      <th>7</th>\n",
       "      <td>3.6</td>\n",
       "      <td>1.0</td>\n",
       "    </tr>\n",
       "    <tr>\n",
       "      <th>8</th>\n",
       "      <td>4.7</td>\n",
       "      <td>1.0</td>\n",
       "    </tr>\n",
       "    <tr>\n",
       "      <th>9</th>\n",
       "      <td>3.0</td>\n",
       "      <td>1.0</td>\n",
       "    </tr>\n",
       "    <tr>\n",
       "      <th>10</th>\n",
       "      <td>3.8</td>\n",
       "      <td>1.0</td>\n",
       "    </tr>\n",
       "    <tr>\n",
       "      <th>11</th>\n",
       "      <td>3.7</td>\n",
       "      <td>1.0</td>\n",
       "    </tr>\n",
       "    <tr>\n",
       "      <th>12</th>\n",
       "      <td>3.2</td>\n",
       "      <td>1.0</td>\n",
       "    </tr>\n",
       "    <tr>\n",
       "      <th>13</th>\n",
       "      <td>3.1</td>\n",
       "      <td>1.0</td>\n",
       "    </tr>\n",
       "    <tr>\n",
       "      <th>14</th>\n",
       "      <td>0.0</td>\n",
       "      <td>2.0</td>\n",
       "    </tr>\n",
       "    <tr>\n",
       "      <th>15</th>\n",
       "      <td>4.1</td>\n",
       "      <td>2.0</td>\n",
       "    </tr>\n",
       "    <tr>\n",
       "      <th>16</th>\n",
       "      <td>3.3</td>\n",
       "      <td>1.0</td>\n",
       "    </tr>\n",
       "    <tr>\n",
       "      <th>17</th>\n",
       "      <td>4.6</td>\n",
       "      <td>1.0</td>\n",
       "    </tr>\n",
       "    <tr>\n",
       "      <th>18</th>\n",
       "      <td>3.9</td>\n",
       "      <td>1.0</td>\n",
       "    </tr>\n",
       "    <tr>\n",
       "      <th>19</th>\n",
       "      <td>3.4</td>\n",
       "      <td>1.0</td>\n",
       "    </tr>\n",
       "    <tr>\n",
       "      <th>20</th>\n",
       "      <td>3.5</td>\n",
       "      <td>1.0</td>\n",
       "    </tr>\n",
       "    <tr>\n",
       "      <th>21</th>\n",
       "      <td>2.2</td>\n",
       "      <td>1.0</td>\n",
       "    </tr>\n",
       "    <tr>\n",
       "      <th>22</th>\n",
       "      <td>2.9</td>\n",
       "      <td>1.0</td>\n",
       "    </tr>\n",
       "    <tr>\n",
       "      <th>23</th>\n",
       "      <td>2.4</td>\n",
       "      <td>1.0</td>\n",
       "    </tr>\n",
       "    <tr>\n",
       "      <th>24</th>\n",
       "      <td>2.6</td>\n",
       "      <td>1.0</td>\n",
       "    </tr>\n",
       "    <tr>\n",
       "      <th>25</th>\n",
       "      <td>2.8</td>\n",
       "      <td>1.0</td>\n",
       "    </tr>\n",
       "    <tr>\n",
       "      <th>26</th>\n",
       "      <td>2.1</td>\n",
       "      <td>1.0</td>\n",
       "    </tr>\n",
       "    <tr>\n",
       "      <th>27</th>\n",
       "      <td>2.7</td>\n",
       "      <td>1.0</td>\n",
       "    </tr>\n",
       "    <tr>\n",
       "      <th>28</th>\n",
       "      <td>2.5</td>\n",
       "      <td>1.0</td>\n",
       "    </tr>\n",
       "    <tr>\n",
       "      <th>29</th>\n",
       "      <td>1.8</td>\n",
       "      <td>1.0</td>\n",
       "    </tr>\n",
       "    <tr>\n",
       "      <th>30</th>\n",
       "      <td>2.0</td>\n",
       "      <td>1.0</td>\n",
       "    </tr>\n",
       "    <tr>\n",
       "      <th>31</th>\n",
       "      <td>2.3</td>\n",
       "      <td>1.0</td>\n",
       "    </tr>\n",
       "    <tr>\n",
       "      <th>32</th>\n",
       "      <td>1.9</td>\n",
       "      <td>1.0</td>\n",
       "    </tr>\n",
       "  </tbody>\n",
       "</table>\n",
       "</div>"
      ],
      "text/plain": [
       "    ratings  avg_review_len\n",
       "0       4.8             1.0\n",
       "1       4.5             1.0\n",
       "2       4.4             2.0\n",
       "3       4.9             1.0\n",
       "4       4.0             2.0\n",
       "5       4.2             2.0\n",
       "6       4.3             2.0\n",
       "7       3.6             1.0\n",
       "8       4.7             1.0\n",
       "9       3.0             1.0\n",
       "10      3.8             1.0\n",
       "11      3.7             1.0\n",
       "12      3.2             1.0\n",
       "13      3.1             1.0\n",
       "14      0.0             2.0\n",
       "15      4.1             2.0\n",
       "16      3.3             1.0\n",
       "17      4.6             1.0\n",
       "18      3.9             1.0\n",
       "19      3.4             1.0\n",
       "20      3.5             1.0\n",
       "21      2.2             1.0\n",
       "22      2.9             1.0\n",
       "23      2.4             1.0\n",
       "24      2.6             1.0\n",
       "25      2.8             1.0\n",
       "26      2.1             1.0\n",
       "27      2.7             1.0\n",
       "28      2.5             1.0\n",
       "29      1.8             1.0\n",
       "30      2.0             1.0\n",
       "31      2.3             1.0\n",
       "32      1.9             1.0"
      ]
     },
     "execution_count": 10,
     "metadata": {},
     "output_type": "execute_result"
    }
   ],
   "source": [
    "review_len_vs_rating"
   ]
  },
  {
   "cell_type": "code",
   "execution_count": 11,
   "id": "1d789a25",
   "metadata": {},
   "outputs": [
    {
     "data": {
      "image/png": "[encoded data removed]",
      "text/plain": [
       "<Figure size 2000x600 with 1 Axes>"
      ]
     },
     "metadata": {},
     "output_type": "display_data"
    }
   ],
   "source": [
    "plt.figure(figsize =(20,6))\n",
    "sns.barplot(x =\"ratings\",y = \"avg_review_len\",data = review_len_vs_rating )\n",
    "plt.title(\"ratings vs avg review length\")\n",
    "plt.show()"
   ]
  },
  {
   "cell_type": "markdown",
   "id": "a5b008e7",
   "metadata": {},
   "source": [
    "# "
   ]
  },
  {
   "cell_type": "markdown",
   "id": "9a7ec0ac",
   "metadata": {},
   "source": [
    "# Task 2: Votes Analysis\n"
   ]
  },
  {
   "cell_type": "markdown",
   "id": "ef3243f5",
   "metadata": {},
   "source": [
    "# a - Identify the restaurants with the highest and lowest number of votes.\n"
   ]
  },
  {
   "cell_type": "code",
   "execution_count": 12,
   "id": "7b4b2258",
   "metadata": {},
   "outputs": [
    {
     "data": {
      "text/plain": [
       "Restaurant Name\n",
       "Barbeque Nation              28142\n",
       "AB's - Absolute Barbecues    13400\n",
       "Toit                         10934\n",
       "Big Chill                    10853\n",
       "Farzi Cafe                   10098\n",
       "                             ...  \n",
       "Muncheezz                        0\n",
       "Swiss Gourmessa                  0\n",
       "Dosa and Pizza Corner            0\n",
       "Sweets n Treats                  0\n",
       "Food Station                     0\n",
       "Name: Votes, Length: 7446, dtype: int64"
      ]
     },
     "execution_count": 12,
     "metadata": {},
     "output_type": "execute_result"
    }
   ],
   "source": [
    "resturant_votes = df.groupby(\"Restaurant Name\")[\"Votes\"].sum()\n",
    "resturant_votes.sort_values(ascending =False)"
   ]
  },
  {
   "cell_type": "code",
   "execution_count": 13,
   "id": "ebe2efdb",
   "metadata": {},
   "outputs": [],
   "source": [
    "high_votes = resturant_votes.max()\n",
    "high_resname =  resturant_votes.idxmax()\n",
    "lowest_votes = resturant_votes.min()\n",
    "lowest_resname =  resturant_votes.idxmin()"
   ]
  },
  {
   "cell_type": "code",
   "execution_count": 14,
   "id": "60e78b5e",
   "metadata": {},
   "outputs": [
    {
     "data": {
      "text/html": [
       "<div>\n",
       "<style scoped>\n",
       "    .dataframe tbody tr th:only-of-type {\n",
       "        vertical-align: middle;\n",
       "    }\n",
       "\n",
       "    .dataframe tbody tr th {\n",
       "        vertical-align: top;\n",
       "    }\n",
       "\n",
       "    .dataframe thead th {\n",
       "        text-align: right;\n",
       "    }\n",
       "</style>\n",
       "<table border=\"1\" class=\"dataframe\">\n",
       "  <thead>\n",
       "    <tr style=\"text-align: right;\">\n",
       "      <th></th>\n",
       "      <th>resturant</th>\n",
       "      <th>votes</th>\n",
       "    </tr>\n",
       "  </thead>\n",
       "  <tbody>\n",
       "    <tr>\n",
       "      <th>0</th>\n",
       "      <td>Barbeque Nation</td>\n",
       "      <td>28142</td>\n",
       "    </tr>\n",
       "    <tr>\n",
       "      <th>1</th>\n",
       "      <td>#hashtag</td>\n",
       "      <td>0</td>\n",
       "    </tr>\n",
       "  </tbody>\n",
       "</table>\n",
       "</div>"
      ],
      "text/plain": [
       "         resturant  votes\n",
       "0  Barbeque Nation  28142\n",
       "1         #hashtag      0"
      ]
     },
     "execution_count": 14,
     "metadata": {},
     "output_type": "execute_result"
    }
   ],
   "source": [
    "res = pd.DataFrame({\"resturant\":[high_resname,lowest_resname],\"votes\":[high_votes,lowest_votes]})\n",
    "res"
   ]
  },
  {
   "cell_type": "code",
   "execution_count": 16,
   "id": "50f8d389",
   "metadata": {},
   "outputs": [
    {
     "name": "stdout",
     "output_type": "stream",
     "text": [
      "the Barbeque Nation has the highest vote of :  28142\n",
      "the #hashtag has the lowest vote of : 0\n"
     ]
    }
   ],
   "source": [
    "print( \"the\",high_resname,\"has the highest vote of : \",high_votes)\n",
    "print( \"the\",lowest_resname,\"has the lowest vote of :\",lowest_votes)"
   ]
  },
  {
   "cell_type": "markdown",
   "id": "576c934b",
   "metadata": {},
   "source": [
    "# "
   ]
  },
  {
   "cell_type": "markdown",
   "id": "ba9d1697",
   "metadata": {},
   "source": [
    "# b - Analyze if there is a correlation between the number of votes and the rating of a restaurant."
   ]
  },
  {
   "cell_type": "code",
   "execution_count": 17,
   "id": "4f8d9b36",
   "metadata": {},
   "outputs": [
    {
     "data": {
      "text/html": [
       "<div>\n",
       "<style scoped>\n",
       "    .dataframe tbody tr th:only-of-type {\n",
       "        vertical-align: middle;\n",
       "    }\n",
       "\n",
       "    .dataframe tbody tr th {\n",
       "        vertical-align: top;\n",
       "    }\n",
       "\n",
       "    .dataframe thead th {\n",
       "        text-align: right;\n",
       "    }\n",
       "</style>\n",
       "<table border=\"1\" class=\"dataframe\">\n",
       "  <thead>\n",
       "    <tr style=\"text-align: right;\">\n",
       "      <th></th>\n",
       "      <th>Votes</th>\n",
       "      <th>Aggregate rating</th>\n",
       "    </tr>\n",
       "  </thead>\n",
       "  <tbody>\n",
       "    <tr>\n",
       "      <th>Votes</th>\n",
       "      <td>1.000000</td>\n",
       "      <td>0.313691</td>\n",
       "    </tr>\n",
       "    <tr>\n",
       "      <th>Aggregate rating</th>\n",
       "      <td>0.313691</td>\n",
       "      <td>1.000000</td>\n",
       "    </tr>\n",
       "  </tbody>\n",
       "</table>\n",
       "</div>"
      ],
      "text/plain": [
       "                     Votes  Aggregate rating\n",
       "Votes             1.000000          0.313691\n",
       "Aggregate rating  0.313691          1.000000"
      ]
     },
     "execution_count": 17,
     "metadata": {},
     "output_type": "execute_result"
    }
   ],
   "source": [
    "corr_col = df[[\"Votes\",\"Aggregate rating\"]]\n",
    "corr_matrix = corr_col.corr()\n",
    "corr_matrix"
   ]
  },
  {
   "cell_type": "code",
   "execution_count": 18,
   "id": "89ce1c71",
   "metadata": {},
   "outputs": [
    {
     "data": {
      "image/png": "[encoded data removed]",
      "text/plain": [
       "<Figure size 640x480 with 2 Axes>"
      ]
     },
     "metadata": {},
     "output_type": "display_data"
    }
   ],
   "source": [
    "sns.heatmap(corr_matrix,annot= True,cmap=\"coolwarm\")\n",
    "plt.show()"
   ]
  },
  {
   "cell_type": "markdown",
   "id": "f709df30",
   "metadata": {},
   "source": [
    "# "
   ]
  },
  {
   "cell_type": "markdown",
   "id": "3f77f528",
   "metadata": {},
   "source": [
    "# Task 3: Price Range vs. Online Delivery and Table Booking"
   ]
  },
  {
   "cell_type": "markdown",
   "id": "42d53c95",
   "metadata": {},
   "source": [
    "# a - Analyze if there is a relationship between the price range and the availability of online delivery and table booking."
   ]
  },
  {
   "cell_type": "code",
   "execution_count": 19,
   "id": "733eeac2",
   "metadata": {},
   "outputs": [],
   "source": [
    "price_onlined = df.groupby(\"Price range\")[\"Has Online delivery\"].value_counts(normalize = True).unstack().fillna(0)\n",
    "price_table = df.groupby(\"Price range\")[\"Has Table booking\"].value_counts(normalize = True).unstack().fillna(0)"
   ]
  },
  {
   "cell_type": "code",
   "execution_count": 20,
   "id": "3f614662",
   "metadata": {},
   "outputs": [
    {
     "name": "stdout",
     "output_type": "stream",
     "text": [
      "relation between price range and Has Online delivery\n",
      "\n",
      "Has Online delivery        No       Yes\n",
      "Price range                            \n",
      "1                    0.842259  0.157741\n",
      "2                    0.586894  0.413106\n",
      "3                    0.708097  0.291903\n",
      "4                    0.909556  0.090444\n"
     ]
    }
   ],
   "source": [
    "print(\"relation between price range and Has Online delivery\")\n",
    "print()\n",
    "print(price_onlined)"
   ]
  },
  {
   "cell_type": "code",
   "execution_count": 21,
   "id": "8c569908",
   "metadata": {},
   "outputs": [
    {
     "name": "stdout",
     "output_type": "stream",
     "text": [
      "relation between price range and has table booking\n",
      "\n",
      "Has Table booking        No       Yes\n",
      "Price range                          \n",
      "1                  0.999775  0.000225\n",
      "2                  0.923225  0.076775\n",
      "3                  0.542614  0.457386\n",
      "4                  0.532423  0.467577\n"
     ]
    }
   ],
   "source": [
    "print(\"relation between price range and has table booking\")\n",
    "print()\n",
    "print(price_table)"
   ]
  },
  {
   "cell_type": "markdown",
   "id": "4209f591",
   "metadata": {},
   "source": [
    "# "
   ]
  },
  {
   "cell_type": "markdown",
   "id": "ac3afdcf",
   "metadata": {},
   "source": [
    "# b - Determine if higher-priced restaurants are more likely to offer these services."
   ]
  },
  {
   "cell_type": "code",
   "execution_count": 22,
   "id": "606142fa",
   "metadata": {},
   "outputs": [],
   "source": [
    "max_rang = df[\"Price range\"].max()\n",
    "high_price_restaurant = df[df[\"Price range\"] == max_rang]"
   ]
  },
  {
   "cell_type": "code",
   "execution_count": 23,
   "id": "e8d6573c",
   "metadata": {},
   "outputs": [
    {
     "data": {
      "image/png": "[encoded data removed]",
      "text/plain": [
       "<Figure size 640x480 with 1 Axes>"
      ]
     },
     "metadata": {},
     "output_type": "display_data"
    }
   ],
   "source": [
    "res_offer_table = high_price_restaurant[\"Has Table booking\"].value_counts()\n",
    "sns.barplot(res_offer_table.index,res_offer_table)\n",
    "plt.xlabel(\"Has Table booking\")\n",
    "plt.ylabel(\"Frequency\")\n",
    "plt.title(\"High priced Restaurant\")\n",
    "plt.show()"
   ]
  },
  {
   "cell_type": "code",
   "execution_count": 24,
   "id": "7e2c4ed5",
   "metadata": {},
   "outputs": [
    {
     "data": {
      "image/png": "[encoded data removed]",
      "text/plain": [
       "<Figure size 640x480 with 1 Axes>"
      ]
     },
     "metadata": {},
     "output_type": "display_data"
    }
   ],
   "source": [
    "res_offer_online = high_price_restaurant[\"Has Online delivery\"].value_counts()\n",
    "sns.barplot(res_offer_online.index,res_offer_online,color = \"green\")\n",
    "plt.xlabel(\"Has Online order\")\n",
    "plt.ylabel(\"Frequency\")\n",
    "plt.title(\"High priced Restaurant\")\n",
    "plt.show()"
   ]
  },
  {
   "cell_type": "markdown",
   "id": "c59d9853",
   "metadata": {},
   "source": [
    "### the higher price restaurant are highly offering table booking "
   ]
  },
  {
   "cell_type": "code",
   "execution_count": null,
   "id": "32077758",
   "metadata": {},
   "outputs": [],
   "source": []
  },
  {
   "cell_type": "code",
   "execution_count": null,
   "id": "1b83292c",
   "metadata": {},
   "outputs": [],
   "source": []
  },
  {
   "cell_type": "code",
   "execution_count": null,
   "id": "a5174604",
   "metadata": {},
   "outputs": [],
   "source": []
  },
  {
   "cell_type": "code",
   "execution_count": null,
   "id": "b53f96f0",
   "metadata": {},
   "outputs": [],
   "source": []
  },
  {
   "cell_type": "code",
   "execution_count": null,
   "id": "750fea45",
   "metadata": {},
   "outputs": [],
   "source": []
  },
  {
   "cell_type": "code",
   "execution_count": null,
   "id": "a26964ca",
   "metadata": {},
   "outputs": [],
   "source": []
  },
  {
   "cell_type": "code",
   "execution_count": null,
   "id": "212fcb9f",
   "metadata": {},
   "outputs": [],
   "source": []
  },
  {
   "cell_type": "code",
   "execution_count": null,
   "id": "ff080f50",
   "metadata": {},
   "outputs": [],
   "source": []
  }
 ],
 "metadata": {
  "kernelspec": {
   "display_name": "Python 3 (ipykernel)",
   "language": "python",
   "name": "python3"
  },
  "language_info": {
   "codemirror_mode": {
    "name": "ipython",
    "version": 3
   },
   "file_extension": ".py",
   "mimetype": "text/x-python",
   "name": "python",
   "nbconvert_exporter": "python",
   "pygments_lexer": "ipython3",
   "version": "3.9.13"
  }
 },
 "nbformat": 4,
 "nbformat_minor": 5
}
